{
 "cells": [
  {
   "cell_type": "code",
   "execution_count": 3,
   "metadata": {},
   "outputs": [
    {
     "name": "stdout",
     "output_type": "stream",
     "text": [
      "chi square = 10.26\n"
     ]
    }
   ],
   "source": [
    "a=[50,60,47,48,70]\n",
    "n=0\n",
    "for i in a:\n",
    "    c=((i-50)**2)/50\n",
    "    n=n+c\n",
    "print(\"chi square = \"+str(n))"
   ]
  },
  {
   "cell_type": "code",
   "execution_count": 6,
   "metadata": {},
   "outputs": [
    {
     "name": "stdout",
     "output_type": "stream",
     "text": [
      "Power_divergenceResult(statistic=10.26, pvalue=0.036268515703669783)\n"
     ]
    }
   ],
   "source": [
    "import scipy.stats as stats\n",
    "d=stats.chisquare(a, 50)\n",
    "print(d)"
   ]
  },
  {
   "cell_type": "code",
   "execution_count": 53,
   "metadata": {},
   "outputs": [
    {
     "name": "stdout",
     "output_type": "stream",
     "text": [
      "Expected value of females\n",
      "\n",
      "[50.8860759493671, 49.86835443037975, 50.377215189873425, 49.86835443037975]\n",
      "Expected value of males\n",
      "\n",
      "[49.11392405063291, 48.131645569620254, 48.62278481012658, 48.131645569620254]\n"
     ]
    }
   ],
   "source": [
    "#h0=female have higher education\n",
    "#h1=female do not have higher education\n",
    "f=[60,54,46,41]\n",
    "m=[40,44,53,57]\n",
    "ft=[201]\n",
    "mt=[194]\n",
    "total=[100,98,99,98]\n",
    "exf=[]\n",
    "for i in total:\n",
    "    e=i*(201/395)\n",
    "    exf.append(e)\n",
    "print(\"Expected value of females\\n\")\n",
    "print(exf)\n",
    "exm=[]\n",
    "for j in total:\n",
    "    e=j*(194/395)\n",
    "    exm.append(e)\n",
    "print(\"Expected value of males\\n\")\n",
    "print(exm)\n",
    "\n"
   ]
  },
  {
   "cell_type": "code",
   "execution_count": 54,
   "metadata": {},
   "outputs": [
    {
     "name": "stdout",
     "output_type": "stream",
     "text": [
      "chi square of females= 3.93209329563274\n"
     ]
    }
   ],
   "source": [
    "l=0\n",
    "\n",
    "for i in range (0,4):\n",
    "    h=((f[i]-exf[i])**2)/exf[i]\n",
    "    l=l+h\n",
    "print(\"chi square of females= \"+str(l))"
   ]
  },
  {
   "cell_type": "code",
   "execution_count": 55,
   "metadata": {},
   "outputs": [
    {
     "name": "stdout",
     "output_type": "stream",
     "text": [
      "chi square of males = 4.073972950629798\n"
     ]
    }
   ],
   "source": [
    "p=0\n",
    "for j in range (0,4):\n",
    "    w=((m[j]-exm[j])**2)/exm[j]\n",
    "    p=p+w\n",
    "print(\"chi square of males = \"+str(p))"
   ]
  },
  {
   "cell_type": "code",
   "execution_count": 56,
   "metadata": {},
   "outputs": [],
   "source": [
    "avg_chi=(p+l)"
   ]
  },
  {
   "cell_type": "code",
   "execution_count": 57,
   "metadata": {},
   "outputs": [
    {
     "data": {
      "text/plain": [
       "8.006066246262538"
      ]
     },
     "execution_count": 57,
     "metadata": {},
     "output_type": "execute_result"
    }
   ],
   "source": [
    "avg_chi"
   ]
  },
  {
   "cell_type": "code",
   "execution_count": 58,
   "metadata": {},
   "outputs": [
    {
     "name": "stdout",
     "output_type": "stream",
     "text": [
      "[60, 54, 46, 41, 40, 44, 53, 57]\n"
     ]
    }
   ],
   "source": [
    "O=f+m\n",
    "print(O)"
   ]
  },
  {
   "cell_type": "code",
   "execution_count": 59,
   "metadata": {},
   "outputs": [
    {
     "name": "stdout",
     "output_type": "stream",
     "text": [
      "[50.8860759493671, 49.86835443037975, 50.377215189873425, 49.86835443037975, 49.11392405063291, 48.131645569620254, 48.62278481012658, 48.131645569620254]\n"
     ]
    }
   ],
   "source": [
    "E=exf+exm\n",
    "print(E)"
   ]
  },
  {
   "cell_type": "code",
   "execution_count": 63,
   "metadata": {},
   "outputs": [
    {
     "name": "stdout",
     "output_type": "stream",
     "text": [
      "chi square of f&m= 8.006066246262538\n"
     ]
    }
   ],
   "source": [
    "q=0\n",
    "\n",
    "for i in range (0,8):\n",
    "    k=((O[i]-E[i])**2)/E[i]\n",
    "    q=q+k\n",
    "print(\"chi square of f&m= \"+str(q))"
   ]
  },
  {
   "cell_type": "code",
   "execution_count": 62,
   "metadata": {},
   "outputs": [
    {
     "name": "stdout",
     "output_type": "stream",
     "text": [
      "Both are same\n"
     ]
    }
   ],
   "source": [
    "if avg_chi==q:\n",
    "    print(\"Both are same\")\n",
    "else:\n",
    "    print(\"ERROR\")"
   ]
  },
  {
   "cell_type": "code",
   "execution_count": 64,
   "metadata": {},
   "outputs": [
    {
     "name": "stdout",
     "output_type": "stream",
     "text": [
      "Power_divergenceResult(statistic=8.006066246262538, pvalue=0.33205929046123961)\n"
     ]
    }
   ],
   "source": [
    "import scipy.stats as stats\n",
    "d=stats.chisquare(O, E)\n",
    "print(d)"
   ]
  },
  {
   "cell_type": "code",
   "execution_count": 77,
   "metadata": {},
   "outputs": [
    {
     "name": "stdout",
     "output_type": "stream",
     "text": [
      "female have higher education\n"
     ]
    }
   ],
   "source": [
    "pval=0.3320\n",
    "if p>0.05:\n",
    "    print(\"female have higher education\")\n",
    "else:\n",
    "    print(\"female do not have higher education\")"
   ]
  },
  {
   "cell_type": "code",
   "execution_count": 78,
   "metadata": {},
   "outputs": [
    {
     "data": {
      "text/plain": [
       "0.332"
      ]
     },
     "execution_count": 78,
     "metadata": {},
     "output_type": "execute_result"
    }
   ],
   "source": [
    "pval"
   ]
  },
  {
   "cell_type": "code",
   "execution_count": null,
   "metadata": {},
   "outputs": [],
   "source": []
  }
 ],
 "metadata": {
  "kernelspec": {
   "display_name": "Python 3",
   "language": "python",
   "name": "python3"
  },
  "language_info": {
   "codemirror_mode": {
    "name": "ipython",
    "version": 3
   },
   "file_extension": ".py",
   "mimetype": "text/x-python",
   "name": "python",
   "nbconvert_exporter": "python",
   "pygments_lexer": "ipython3",
   "version": "3.6.9"
  }
 },
 "nbformat": 4,
 "nbformat_minor": 2
}
