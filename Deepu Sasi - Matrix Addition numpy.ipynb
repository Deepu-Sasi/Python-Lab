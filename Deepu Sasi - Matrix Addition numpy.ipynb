{
 "cells": [
  {
   "cell_type": "code",
   "execution_count": 5,
   "metadata": {},
   "outputs": [
    {
     "name": "stdout",
     "output_type": "stream",
     "text": [
      "enter the number of rows;2\n",
      "enter the number of colums;2\n",
      "Matrix1\n",
      "Enter the entries row wise:\n",
      "1\n",
      "2\n",
      "3\n",
      "4\n",
      "Matrix 2\n",
      "Enter the entries row wise:\n",
      "5\n",
      "6\n",
      "7\n",
      "8\n",
      "1st matrix:  [[1, 2], [3, 4]]\n",
      "2nd matrix :  [[5, 6], [7, 8]]\n",
      "matrix after addition :  [[ 6  8]\n",
      " [10 12]]\n"
     ]
    }
   ],
   "source": [
    "import numpy as np\n",
    "n = int(input(\"enter the number of rows;\"))\n",
    "m = int(input(\"enter the number of colums;\"))\n",
    "matrix1 = []\n",
    "print(\"Matrix1\")\n",
    "print(\"Enter the entries row wise:\")\n",
    "for i in range(n):\n",
    "    a = []\n",
    "    for j in range(m):\n",
    "        a.append(int(input()))\n",
    "    matrix1.append(a)\n",
    "print(\"Matrix 2\")\n",
    "matrix2 = []\n",
    "print(\"Enter the entries row wise:\")\n",
    "for i in range(n):\n",
    "    b = []\n",
    "    for j in range(m):\n",
    "        b.append(int(input()))\n",
    "    matrix2.append(b)\n",
    "   \n",
    "print (\"1st matrix: \", matrix1) \n",
    "print (\"2nd matrix : \", matrix2) \n",
    "matrix3 = np.add(matrix1, matrix2) \n",
    "print (\"matrix after addition : \", matrix3) "
   ]
  },
  {
   "cell_type": "code",
   "execution_count": null,
   "metadata": {},
   "outputs": [],
   "source": []
  }
 ],
 "metadata": {
  "kernelspec": {
   "display_name": "Python 3",
   "language": "python",
   "name": "python3"
  },
  "language_info": {
   "codemirror_mode": {
    "name": "ipython",
    "version": 3
   },
   "file_extension": ".py",
   "mimetype": "text/x-python",
   "name": "python",
   "nbconvert_exporter": "python",
   "pygments_lexer": "ipython3",
   "version": "3.6.9"
  }
 },
 "nbformat": 4,
 "nbformat_minor": 2
}
