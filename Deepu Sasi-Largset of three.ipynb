{
 "cells": [
  {
   "cell_type": "code",
   "execution_count": 6,
   "metadata": {},
   "outputs": [
    {
     "name": "stdout",
     "output_type": "stream",
     "text": [
      "enter the number a : 25\n",
      "enter the bumber b :36\n",
      "enter the number c :98\n",
      "98 is the largest \n"
     ]
    }
   ],
   "source": [
    "a=input(\"enter the number a : \")\n",
    "b=input(\"enter the bumber b :\")\n",
    "c=input(\"enter the number c :\")\n",
    "if(a>b) and (a>c):\n",
    "    print(a+\" is the largest \")\n",
    "elif(b>c) and (b>a):\n",
    "    print(b+\" is the largest \")\n",
    "else:\n",
    "    print(c+\" is the largest \")\n",
    "    "
   ]
  },
  {
   "cell_type": "code",
   "execution_count": null,
   "metadata": {},
   "outputs": [],
   "source": []
  }
 ],
 "metadata": {
  "kernelspec": {
   "display_name": "Python 3",
   "language": "python",
   "name": "python3"
  },
  "language_info": {
   "codemirror_mode": {
    "name": "ipython",
    "version": 3
   },
   "file_extension": ".py",
   "mimetype": "text/x-python",
   "name": "python",
   "nbconvert_exporter": "python",
   "pygments_lexer": "ipython3",
   "version": "3.6.9"
  }
 },
 "nbformat": 4,
 "nbformat_minor": 2
}
