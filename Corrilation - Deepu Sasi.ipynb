{
 "cells": [
  {
   "cell_type": "code",
   "execution_count": 23,
   "metadata": {},
   "outputs": [
    {
     "name": "stdout",
     "output_type": "stream",
     "text": [
      "0.721314718045\n"
     ]
    }
   ],
   "source": [
    "import numpy as np\n",
    "hands=[17,15,19,17,21]\n",
    "heights=[150,154,169,172,175]\n",
    "x=np.corrcoef(hands, heights)\n",
    "print(x)"
   ]
  },
  {
   "cell_type": "code",
   "execution_count": 24,
   "metadata": {},
   "outputs": [
    {
     "name": "stdout",
     "output_type": "stream",
     "text": [
      "(0.72131471804534497, 0.16902873603821766)\n"
     ]
    }
   ],
   "source": [
    "from scipy.stats import pearsonr\n",
    "r=pearsonr(hands, heights)\n",
    "print(r)"
   ]
  },
  {
   "cell_type": "code",
   "execution_count": 30,
   "metadata": {},
   "outputs": [
    {
     "name": "stdout",
     "output_type": "stream",
     "text": [
      "We accept null hypothesis\n"
     ]
    }
   ],
   "source": [
    "a = np.asarray(r)\n",
    "\n",
    "if a[1]>0.05:\n",
    "    print(\"We accept null hypothesis\")\n",
    "else:\n",
    "    print(\"We reject null hypothesis\")"
   ]
  },
  {
   "cell_type": "code",
   "execution_count": null,
   "metadata": {},
   "outputs": [],
   "source": []
  }
 ],
 "metadata": {
  "kernelspec": {
   "display_name": "Python 3",
   "language": "python",
   "name": "python3"
  },
  "language_info": {
   "codemirror_mode": {
    "name": "ipython",
    "version": 3
   },
   "file_extension": ".py",
   "mimetype": "text/x-python",
   "name": "python",
   "nbconvert_exporter": "python",
   "pygments_lexer": "ipython3",
   "version": "3.6.9"
  }
 },
 "nbformat": 4,
 "nbformat_minor": 2
}
