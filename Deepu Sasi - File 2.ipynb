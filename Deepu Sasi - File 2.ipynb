{
 "cells": [
  {
   "cell_type": "code",
   "execution_count": 64,
   "metadata": {},
   "outputs": [
    {
     "name": "stdout",
     "output_type": "stream",
     "text": [
      "Enter the String :Hi, I'm Deepu Sasi. I'm an engineering student.\n",
      "The number of Words :8\n",
      "The number of Upper case letters :5\n",
      "The number of lower case letters :30\n",
      "The number of special characters :5\n",
      "The number of sentenses :2\n"
     ]
    }
   ],
   "source": [
    "file1 = open(\"p.txt\",\"w\")\n",
    "X=input(\"Enter the String :\")\n",
    "file1.write(X)\n",
    "file1 = open(\"p.txt\",\"r\")\n",
    "f=file1.read()\n",
    "a=\"\"\n",
    "W=0\n",
    "words=f.split()\n",
    "for word in words:\n",
    "    W=W+1\n",
    "    a=a+word\n",
    "U=0\n",
    "L=0\n",
    "S=0\n",
    "T=0\n",
    "for j in a:\n",
    "    if j.isupper():\n",
    "        U=U+1\n",
    "    elif j.islower():\n",
    "        L=L+1\n",
    "    else:\n",
    "        S=S+1\n",
    "        if j=='.':\n",
    "            T=T+1\n",
    "        \n",
    "print(\"The number of Words :\" +(str(W)))\n",
    "print(\"The number of Upper case letters :\"+(str(U)))\n",
    "print(\"The number of lower case letters :\"+(str(L)))\n",
    "print(\"The number of special characters :\"+(str(S)))\n",
    "print(\"The number of sentenses :\"+(str(T)))\n"
   ]
  },
  {
   "cell_type": "code",
   "execution_count": null,
   "metadata": {},
   "outputs": [],
   "source": []
  },
  {
   "cell_type": "code",
   "execution_count": null,
   "metadata": {},
   "outputs": [],
   "source": []
  },
  {
   "cell_type": "code",
   "execution_count": null,
   "metadata": {},
   "outputs": [],
   "source": []
  }
 ],
 "metadata": {
  "kernelspec": {
   "display_name": "Python 3",
   "language": "python",
   "name": "python3"
  },
  "language_info": {
   "codemirror_mode": {
    "name": "ipython",
    "version": 3
   },
   "file_extension": ".py",
   "mimetype": "text/x-python",
   "name": "python",
   "nbconvert_exporter": "python",
   "pygments_lexer": "ipython3",
   "version": "3.6.9"
  }
 },
 "nbformat": 4,
 "nbformat_minor": 2
}
