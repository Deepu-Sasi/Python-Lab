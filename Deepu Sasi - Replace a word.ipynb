{
 "cells": [
  {
   "cell_type": "code",
   "execution_count": 2,
   "metadata": {},
   "outputs": [
    {
     "name": "stdout",
     "output_type": "stream",
     "text": [
      "Enter the string :hi i'm Deepu\n",
      "Enter teh word to be replaced :Deepu\n",
      "Enter the word to replace :Hari\n",
      "String aftere replacement :\n",
      "hi i'm Hari \n"
     ]
    }
   ],
   "source": [
    "n=input(\"Enter the string :\")\n",
    "a=input(\"Enter teh word to be replaced :\")\n",
    "b=input(\"Enter the word to replace :\")\n",
    "r=\"\"\n",
    "words=n.split()\n",
    "for word in words:\n",
    "    if (word==a):\n",
    "        r=r+b+\" \"\n",
    "    else :\n",
    "        r=r+word+\" \"\n",
    "print(\"String aftere replacement :\")\n",
    "print(r)"
   ]
  },
  {
   "cell_type": "code",
   "execution_count": null,
   "metadata": {},
   "outputs": [],
   "source": []
  }
 ],
 "metadata": {
  "kernelspec": {
   "display_name": "Python 3",
   "language": "python",
   "name": "python3"
  },
  "language_info": {
   "codemirror_mode": {
    "name": "ipython",
    "version": 3
   },
   "file_extension": ".py",
   "mimetype": "text/x-python",
   "name": "python",
   "nbconvert_exporter": "python",
   "pygments_lexer": "ipython3",
   "version": "3.6.9"
  }
 },
 "nbformat": 4,
 "nbformat_minor": 2
}
