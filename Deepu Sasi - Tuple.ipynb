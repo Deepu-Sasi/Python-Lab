{
 "cells": [
  {
   "cell_type": "code",
   "execution_count": 2,
   "metadata": {},
   "outputs": [
    {
     "name": "stdout",
     "output_type": "stream",
     "text": [
      "Tuple Items =  (1, 2, 3, 4, 5, 6, 7, 8)\n",
      "\n",
      "The Even Numbers in this Tuple are:\n",
      "Odd= (1, 3, 5, 7)\n",
      "Even= (2, 4, 6, 8)\n"
     ]
    }
   ],
   "source": [
    "Tuple = (1, 2, 3, 4, 5, 6, 7, 8)\n",
    "print(\"Tuple Items = \", Tuple)\n",
    "odd=()\n",
    "even=()\n",
    "for i in Tuple:\n",
    "    if(i % 2 == 0):\n",
    "        even=even+(i,)\n",
    "    else:\n",
    "        odd=odd+(i,)\n",
    "        \n",
    "print(\"Odd=\",odd)\n",
    "print(\"Even=\",even)\n"
   ]
  },
  {
   "cell_type": "code",
   "execution_count": 3,
   "metadata": {},
   "outputs": [
    {
     "name": "stdout",
     "output_type": "stream",
     "text": [
      "(1, 2, 3, 4, 5, 6, 7, 8, 9)\n"
     ]
    }
   ],
   "source": [
    "t1=(1,2,3,4,5)\n",
    "t2=(6,7,8,9)\n",
    "t3=t1+t2\n",
    "print(t3)"
   ]
  },
  {
   "cell_type": "code",
   "execution_count": null,
   "metadata": {},
   "outputs": [],
   "source": []
  }
 ],
 "metadata": {
  "kernelspec": {
   "display_name": "Python 3",
   "language": "python",
   "name": "python3"
  },
  "language_info": {
   "codemirror_mode": {
    "name": "ipython",
    "version": 3
   },
   "file_extension": ".py",
   "mimetype": "text/x-python",
   "name": "python",
   "nbconvert_exporter": "python",
   "pygments_lexer": "ipython3",
   "version": "3.6.9"
  }
 },
 "nbformat": 4,
 "nbformat_minor": 2
}
