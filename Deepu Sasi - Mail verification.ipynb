{
 "cells": [
  {
   "cell_type": "code",
   "execution_count": 1,
   "metadata": {},
   "outputs": [
    {
     "name": "stdout",
     "output_type": "stream",
     "text": [
      "Enter the email :shorn@gmail.com\n",
      "The email id is valid\n"
     ]
    }
   ],
   "source": [
    "e=input(\"Enter the email :\")\n",
    "a=\"@\"\n",
    "l=\" \"\n",
    "s=len(e)\n",
    "k=e.index(a)\n",
    "for i in range(0,k):\n",
    "   l=l+e[i]\n",
    "   p=1\n",
    "O=\"\"\n",
    "for i in range (k+1,s):\n",
    "    O=O+e[i]\n",
    "if (O==\"gmail.com\") or(O==\"yahoo.com\"):\n",
    "    h=1\n",
    "else:\n",
    "    h=0\n",
    "\n",
    "if (p==1)and(h==1):\n",
    "    print(\"The email id is valid\")\n",
    "else:\n",
    "    print(\"The email id is not valid\")"
   ]
  },
  {
   "cell_type": "code",
   "execution_count": null,
   "metadata": {},
   "outputs": [],
   "source": []
  }
 ],
 "metadata": {
  "kernelspec": {
   "display_name": "Python 3",
   "language": "python",
   "name": "python3"
  },
  "language_info": {
   "codemirror_mode": {
    "name": "ipython",
    "version": 3
   },
   "file_extension": ".py",
   "mimetype": "text/x-python",
   "name": "python",
   "nbconvert_exporter": "python",
   "pygments_lexer": "ipython3",
   "version": "3.6.9"
  }
 },
 "nbformat": 4,
 "nbformat_minor": 2
}
