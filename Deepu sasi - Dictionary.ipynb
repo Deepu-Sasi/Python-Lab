{
 "cells": [
  {
   "cell_type": "code",
   "execution_count": 46,
   "metadata": {},
   "outputs": [
    {
     "name": "stdout",
     "output_type": "stream",
     "text": [
      "{'Balarama': '10', 'Kuttikaludedeepika': '20'}\n",
      "Select an Option : 1 = Update, 2 = Delete, 3 = to delete specific value1\n",
      "Enter the key :Balarama\n",
      "Enter the value :8\n",
      "Dictionary after updation\n",
      "\n",
      "{'Balarama': '8', 'Kuttikaludedeepika': '20'}\n"
     ]
    }
   ],
   "source": [
    "dict = {'Balarama':'10','Kuttikaludedeepika':'20'}\n",
    "print(dict)\n",
    "O=int(input(\"Select an Option : 1 = Update, 2 = Delete, 3 = to delete specific value\"))\n",
    "if O==1:\n",
    "    a=input(\"Enter the key :\")\n",
    "    v=input(\"Enter the value :\")\n",
    "    dict[a]=v\n",
    "    print(\"Dictionary after updation\\n\")\n",
    "    print(dict)\n",
    "elif O==2:\n",
    "    dict.popitem()\n",
    "    print(\"Dictionary after popping last element\\n\")\n",
    "    print(dict)\n",
    "else:\n",
    "    k=input(\"Enter the key of the value to be popped\")\n",
    "    dict.pop(k)\n",
    "    print(\"Dictionary after popping\"+k+\"\\n\")\n",
    "    print(dict)"
   ]
  },
  {
   "cell_type": "code",
   "execution_count": null,
   "metadata": {},
   "outputs": [],
   "source": []
  },
  {
   "cell_type": "code",
   "execution_count": null,
   "metadata": {},
   "outputs": [],
   "source": []
  }
 ],
 "metadata": {
  "kernelspec": {
   "display_name": "Python 3",
   "language": "python",
   "name": "python3"
  },
  "language_info": {
   "codemirror_mode": {
    "name": "ipython",
    "version": 3
   },
   "file_extension": ".py",
   "mimetype": "text/x-python",
   "name": "python",
   "nbconvert_exporter": "python",
   "pygments_lexer": "ipython3",
   "version": "3.6.9"
  }
 },
 "nbformat": 4,
 "nbformat_minor": 2
}
