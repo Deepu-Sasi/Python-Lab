{
 "cells": [
  {
   "cell_type": "code",
   "execution_count": 4,
   "metadata": {},
   "outputs": [
    {
     "name": "stdout",
     "output_type": "stream",
     "text": [
      "enter the radius of circle :5\n",
      "enter the height of circle :8\n",
      "surface area:  408.20000000000005\n",
      "volume:  628.0\n"
     ]
    }
   ],
   "source": [
    "def vol_surface(r,h):\n",
    "    sa=2*3.14*r*r+2*3.14*r*h\n",
    "    v=3.14*r*r*h\n",
    "    print(\"surface area: \",sa)\n",
    "    print(\"volume: \",v)\n",
    "r=int(input(\"enter the radius of circle :\"))\n",
    "h=int(input(\"enter the height of circle :\"))\n",
    "vol_surface(r,h)"
   ]
  },
  {
   "cell_type": "code",
   "execution_count": null,
   "metadata": {},
   "outputs": [],
   "source": []
  }
 ],
 "metadata": {
  "kernelspec": {
   "display_name": "Python 3",
   "language": "python",
   "name": "python3"
  },
  "language_info": {
   "codemirror_mode": {
    "name": "ipython",
    "version": 3
   },
   "file_extension": ".py",
   "mimetype": "text/x-python",
   "name": "python",
   "nbconvert_exporter": "python",
   "pygments_lexer": "ipython3",
   "version": "3.6.9"
  }
 },
 "nbformat": 4,
 "nbformat_minor": 2
}
