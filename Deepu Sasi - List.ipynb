{
 "cells": [
  {
   "cell_type": "code",
   "execution_count": 4,
   "metadata": {},
   "outputs": [
    {
     "name": "stdout",
     "output_type": "stream",
     "text": [
      "Enter the number of elements :5\n",
      "Enter the element:1\n",
      "Enter the element:1\n",
      "Enter the element:2\n",
      "Enter the element:1\n",
      "Enter the element:3\n",
      "THe list before removal\n",
      "['1', '1', '2', '1', '3']\n",
      "Enter the element to be removed :1\n",
      "The list after removal\n",
      "['2', '3']\n"
     ]
    }
   ],
   "source": [
    "list=[]\n",
    "n=int(input(\"Enter the number of elements :\"))\n",
    "for i in range(0, n):\n",
    "    p = input(\"Enter the element:\")\n",
    "    list.append(p)\n",
    "print(\"THe list before removal\")\n",
    "print(list)\n",
    "r = str(input(\"Enter the element to be removed :\"))\n",
    "c=list.count(r)\n",
    "for i in range(c):\n",
    "        list.remove(r)\n",
    "\n",
    "print(\"The list after removal\")\n",
    "print(list)"
   ]
  },
  {
   "cell_type": "code",
   "execution_count": null,
   "metadata": {},
   "outputs": [],
   "source": []
  },
  {
   "cell_type": "code",
   "execution_count": null,
   "metadata": {},
   "outputs": [],
   "source": []
  }
 ],
 "metadata": {
  "kernelspec": {
   "display_name": "Python 3",
   "language": "python",
   "name": "python3"
  },
  "language_info": {
   "codemirror_mode": {
    "name": "ipython",
    "version": 3
   },
   "file_extension": ".py",
   "mimetype": "text/x-python",
   "name": "python",
   "nbconvert_exporter": "python",
   "pygments_lexer": "ipython3",
   "version": "3.6.9"
  }
 },
 "nbformat": 4,
 "nbformat_minor": 2
}
